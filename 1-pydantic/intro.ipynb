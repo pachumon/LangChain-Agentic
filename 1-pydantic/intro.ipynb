{
 "cells": [
  {
   "cell_type": "markdown",
   "id": "f30e527c",
   "metadata": {},
   "source": [
    "#### Pydantic Basics:Creating and Using Models"
   ]
  },
  {
   "cell_type": "code",
   "execution_count": 34,
   "id": "e0e84f12",
   "metadata": {},
   "outputs": [],
   "source": [
    "from pydantic import BaseModel"
   ]
  },
  {
   "cell_type": "code",
   "execution_count": 35,
   "id": "9bf8b4dc",
   "metadata": {},
   "outputs": [
    {
     "name": "stdout",
     "output_type": "stream",
     "text": [
      "name='pachumon' age=30 city='Bangalore'\n"
     ]
    }
   ],
   "source": [
    "class Person(BaseModel):\n",
    "    name: str\n",
    "    age: int\n",
    "    city: str\n",
    "\n",
    "person = Person(name=\"pachumon\", age=30, city=\"Bangalore\")\n",
    "print(person)"
   ]
  },
  {
   "cell_type": "code",
   "execution_count": 36,
   "id": "ab7b938b",
   "metadata": {},
   "outputs": [],
   "source": [
    "from typing import Optional\n",
    "class Employee(BaseModel):\n",
    "    id : int\n",
    "    name: str\n",
    "    department: str\n",
    "    salary: Optional[float] = None  # Optional field with default value None\n",
    "    is_active: Optional[bool] = True  # Optional field with default value True"
   ]
  },
  {
   "cell_type": "code",
   "execution_count": 37,
   "id": "fea523a6",
   "metadata": {},
   "outputs": [
    {
     "name": "stdout",
     "output_type": "stream",
     "text": [
      "id=1 name='John Doe' department='Engineering' salary=None is_active=True\n",
      "id=2 name='Jane Smith' department='Marketing' salary=60000.0 is_active=False\n"
     ]
    }
   ],
   "source": [
    "emp1 = Employee(id=1, name=\"John Doe\", department=\"Engineering\")\n",
    "print(emp1)\n",
    "emp2 = Employee(id=2, name=\"Jane Smith\", department=\"Marketing\", salary=60000.0, is_active=False)\n",
    "print(emp2)"
   ]
  },
  {
   "cell_type": "code",
   "execution_count": 38,
   "id": "7e0c138f",
   "metadata": {},
   "outputs": [
    {
     "name": "stdout",
     "output_type": "stream",
     "text": [
      "room_number='101' capacity=30 students=['Alice', 'Bob', 'Charlie']\n"
     ]
    }
   ],
   "source": [
    "from pydantic import BaseModel\n",
    "from typing import List\n",
    "\n",
    "class Classroom(BaseModel):\n",
    "    room_number: str\n",
    "    capacity: int\n",
    "    students: List[str]\n",
    "\n",
    "classroom = Classroom(room_number=\"101\", capacity=30, students=[\"Alice\", \"Bob\", \"Charlie\"])\n",
    "print(classroom)"
   ]
  },
  {
   "cell_type": "code",
   "execution_count": 39,
   "id": "a56f901a",
   "metadata": {},
   "outputs": [
    {
     "name": "stdout",
     "output_type": "stream",
     "text": [
      "Validation error: 1 validation error for Classroom\n",
      "students.2\n",
      "  Input should be a valid string [type=string_type, input_value=123, input_type=int]\n",
      "    For further information visit https://errors.pydantic.dev/2.11/v/string_type\n"
     ]
    }
   ],
   "source": [
    "try:\n",
    "    invalid_classroom = Classroom(room_number=\"102\", capacity=25, students=[\"Alice\", \"Bob\", 123])  # Invalid student name\n",
    "    print(invalid_classroom)\n",
    "except ValueError as e:\n",
    "    print(f\"Validation error: {e}\")"
   ]
  },
  {
   "cell_type": "code",
   "execution_count": 40,
   "id": "619f50ef",
   "metadata": {},
   "outputs": [
    {
     "name": "stdout",
     "output_type": "stream",
     "text": [
      "customer_id=1 name='Alice Johnson' email='abc@email.com' address=Address(street='123 Main St', city='Springfield', zip_code='12345')\n"
     ]
    }
   ],
   "source": [
    "from pydantic import BaseModel\n",
    "\n",
    "class Address(BaseModel):\n",
    "    street: str\n",
    "    city: str\n",
    "    zip_code: str\n",
    "\n",
    "class Customer(BaseModel):\n",
    "    customer_id: int\n",
    "    name: str\n",
    "    email: str\n",
    "    address: Address\n",
    "\n",
    "customer = Customer(\n",
    "    customer_id=1,\n",
    "    name=\"Alice Johnson\",\n",
    "    email=\"abc@email.com\",\n",
    "    address={\n",
    "        \"street\":\"123 Main St\",\n",
    "        \"city\":\"Springfield\",\n",
    "        \"zip_code\":\"12345\"\n",
    "    }\n",
    ")    \n",
    "print(customer)"
   ]
  },
  {
   "cell_type": "markdown",
   "id": "7ec83d06",
   "metadata": {},
   "source": [
    "#### Pydantic Fields : Customization and Constraints"
   ]
  },
  {
   "cell_type": "code",
   "execution_count": 56,
   "id": "c4ee705c",
   "metadata": {},
   "outputs": [
    {
     "name": "stdout",
     "output_type": "stream",
     "text": [
      "name='Laptop' price=999.99 quantity=5\n",
      "username='john_doe' email='user@example.com' age=18\n"
     ]
    }
   ],
   "source": [
    "from pydantic import BaseModel, Field\n",
    "\n",
    "class Item(BaseModel):\n",
    "    name: str = Field(..., min_length=2,max_length=50)  # Name must not be empty\n",
    "    price: float = Field(..., gt=0,le=1000)  # Price must be greater than 0\n",
    "    quantity: int = Field(..., ge=0)  # Quantity must be non-negative\n",
    "\n",
    "item = Item(name=\"Laptop\", price=999.99, quantity=5)\n",
    "print(item)\n",
    "\n",
    "class User(BaseModel):\n",
    "    username: str = Field(...,description=\"unique usernme for user\")  # Username must be between 3 and 20 characters\n",
    "    email: str = Field(default_factory=lambda: \"user@example.com\", description=\"default email for user\")  # Default email is\n",
    "    age: int = Field(default=18, ge=0, description=\"user age , defaults to 18\")  # Default age is 18, must be non-negative\n",
    "\n",
    "user1 = User(username=\"john_doe\")\n",
    "print(user1)\n"
   ]
  }
 ],
 "metadata": {
  "kernelspec": {
   "display_name": ".venv",
   "language": "python",
   "name": "python3"
  },
  "language_info": {
   "codemirror_mode": {
    "name": "ipython",
    "version": 3
   },
   "file_extension": ".py",
   "mimetype": "text/x-python",
   "name": "python",
   "nbconvert_exporter": "python",
   "pygments_lexer": "ipython3",
   "version": "3.13.5"
  }
 },
 "nbformat": 4,
 "nbformat_minor": 5
}
