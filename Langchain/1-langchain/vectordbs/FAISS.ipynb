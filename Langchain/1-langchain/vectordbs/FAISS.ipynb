{
 "cells": [
  {
   "cell_type": "markdown",
   "id": "ebad5337",
   "metadata": {},
   "source": [
    "## FAISS Facebook AI similarity Search"
   ]
  },
  {
   "cell_type": "code",
   "execution_count": null,
   "id": "60ff9a5b",
   "metadata": {},
   "outputs": [],
   "source": [
    "from langchain_community.document_loaders import TextLoader\n",
    "from langchain_community.vectorstores import FAISS \n",
    "from langchain_community.embeddings import OllamaEmbeddings\n",
    "from langchain_text_splitters import CharacterTextSplitter\n",
    "\n",
    "loader = TextLoader(\"speech.txt\")\n",
    "documents = loader.load()\n",
    "text_splitter = CharacterTextSplitter(chunk_size=200, chunk_overlap=30)\n",
    "texts = text_splitter.split_documents(documents)\n",
    "len(texts)"
   ]
  },
  {
   "cell_type": "code",
   "execution_count": null,
   "id": "1f7105d9",
   "metadata": {},
   "outputs": [],
   "source": [
    "embeddings = OllamaEmbeddings(model=\"nomic-embed-text\")\n",
    "db = FAISS.from_documents(texts, embeddings)\n",
    "db"
   ]
  },
  {
   "cell_type": "code",
   "execution_count": null,
   "id": "61d10c1c",
   "metadata": {},
   "outputs": [],
   "source": [
    "query = \"how does the speaker describe the desired outcome of the war?\"\n",
    "docs = db.similarity_search(query)\n",
    "docs"
   ]
  },
  {
   "cell_type": "markdown",
   "id": "0f87a3df",
   "metadata": {},
   "source": [
    "### As a retriever"
   ]
  },
  {
   "cell_type": "code",
   "execution_count": null,
   "id": "932596bf",
   "metadata": {},
   "outputs": [],
   "source": [
    "retriever = db.as_retriever()\n",
    "docs = retriever.invoke(query)\n",
    "docs"
   ]
  },
  {
   "cell_type": "markdown",
   "id": "805c69b1",
   "metadata": {},
   "source": [
    "### similarity search with score"
   ]
  },
  {
   "cell_type": "code",
   "execution_count": null,
   "id": "ac9c36ff",
   "metadata": {},
   "outputs": [],
   "source": [
    "docs_and_scores = db.similarity_search_with_score(query)\n",
    "docs_and_scores"
   ]
  },
  {
   "cell_type": "code",
   "execution_count": null,
   "id": "c6b14765",
   "metadata": {},
   "outputs": [],
   "source": [
    "embedding_vector = embeddings.embed_query(query)\n",
    "embedding_vector\n",
    "db.similarity_search_by_vector(embedding_vector)"
   ]
  },
  {
   "cell_type": "markdown",
   "id": "3deddf54",
   "metadata": {},
   "source": [
    "### saving vector store and loading "
   ]
  },
  {
   "cell_type": "code",
   "execution_count": null,
   "id": "213ae888",
   "metadata": {},
   "outputs": [],
   "source": [
    "db.save_local(\"faiss_index\")"
   ]
  },
  {
   "cell_type": "code",
   "execution_count": null,
   "id": "9cf941ec",
   "metadata": {},
   "outputs": [],
   "source": [
    "new_db = FAISS.load_local(\"faiss_index\", embeddings,allow_dangerous_deserialization=True)\n",
    "new_docs = new_db.similarity_search(query)\n",
    "new_docs"
   ]
  }
 ],
 "metadata": {
  "kernelspec": {
   "display_name": "LangChain-Agentic",
   "language": "python",
   "name": "python3"
  },
  "language_info": {
   "codemirror_mode": {
    "name": "ipython",
    "version": 3
   },
   "file_extension": ".py",
   "mimetype": "text/x-python",
   "name": "python",
   "nbconvert_exporter": "python",
   "pygments_lexer": "ipython3",
   "version": "3.13.5"
  }
 },
 "nbformat": 4,
 "nbformat_minor": 5
}
