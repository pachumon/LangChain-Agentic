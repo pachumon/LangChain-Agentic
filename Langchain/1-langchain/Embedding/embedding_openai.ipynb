{
 "cells": [
  {
   "cell_type": "markdown",
   "id": "a7ad63c5",
   "metadata": {},
   "source": [
    "### Embeddings Openai\n",
    "\n",
    "##### converting texts to vectors"
   ]
  },
  {
   "cell_type": "code",
   "execution_count": null,
   "id": "360b915a",
   "metadata": {},
   "outputs": [],
   "source": [
    "import os\n",
    "from dotenv import load_dotenv\n",
    "load_dotenv()\n",
    "os.environ[\"OPENAI_API_KEY\"] = os.getenv(\"OPENAI_API_KEY\")"
   ]
  },
  {
   "cell_type": "code",
   "execution_count": null,
   "id": "a86beef1",
   "metadata": {},
   "outputs": [],
   "source": [
    "from langchain.embeddings import OpenAIEmbeddings\n",
    "embeddings = OpenAIEmbeddings(model=\"text-embedding-3-large\")\n",
    "embeddings"
   ]
  },
  {
   "cell_type": "code",
   "execution_count": null,
   "id": "8d0c9808",
   "metadata": {},
   "outputs": [],
   "source": [
    "text = \"This is a tutorial on openai embeddings\"\n",
    "query_result = embeddings.embed_query(text)\n",
    "len(query_result)\n"
   ]
  },
  {
   "cell_type": "code",
   "execution_count": null,
   "id": "074a1ed4",
   "metadata": {},
   "outputs": [],
   "source": [
    "embeddings= OpenAIEmbeddings(model=\"text-embedding-3-large\",dimensions=1536)\n",
    "query_result = embeddings.embed_query(text)\n",
    "len(query_result)"
   ]
  },
  {
   "cell_type": "code",
   "execution_count": null,
   "id": "2d4f8b9c",
   "metadata": {},
   "outputs": [],
   "source": [
    "from langchain_community.document_loaders import TextLoader\n",
    "from langchain.text_splitter import RecursiveCharacterTextSplitter\n",
    "loader = TextLoader(\"speech.txt\")\n",
    "documents = loader.load()\n",
    "\n",
    "text_splitter = RecursiveCharacterTextSplitter(chunk_size=1000, chunk_overlap=200)\n",
    "final_documents = text_splitter.split_documents(documents)\n",
    "len(final_documents)"
   ]
  },
  {
   "cell_type": "markdown",
   "id": "e7d51e6a",
   "metadata": {},
   "source": [
    "## vector embeddings and vector store"
   ]
  },
  {
   "cell_type": "code",
   "execution_count": null,
   "id": "94818880",
   "metadata": {},
   "outputs": [],
   "source": [
    "from langchain_community.vectorstores import Chroma\n",
    "vector_store = Chroma.from_documents(documents=final_documents, embedding=embeddings)\n",
    "vector_store"
   ]
  },
  {
   "cell_type": "code",
   "execution_count": null,
   "id": "62ba6b62",
   "metadata": {},
   "outputs": [],
   "source": [
    "query_text = \"With a profound sense of the solemn and even tragical\"\n",
    "query_result = vector_store.similarity_search(query_text)\n",
    "len(query_result)"
   ]
  }
 ],
 "metadata": {
  "kernelspec": {
   "display_name": "LangChain-Agentic",
   "language": "python",
   "name": "python3"
  },
  "language_info": {
   "codemirror_mode": {
    "name": "ipython",
    "version": 3
   },
   "file_extension": ".py",
   "mimetype": "text/x-python",
   "name": "python",
   "nbconvert_exporter": "python",
   "pygments_lexer": "ipython3",
   "version": "3.13.5"
  }
 },
 "nbformat": 4,
 "nbformat_minor": 5
}
