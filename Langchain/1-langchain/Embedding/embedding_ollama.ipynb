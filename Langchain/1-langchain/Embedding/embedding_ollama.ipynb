{
 "cells": [
  {
   "cell_type": "markdown",
   "id": "46c41b12",
   "metadata": {},
   "source": [
    "## Embeddings with Ollama"
   ]
  },
  {
   "cell_type": "code",
   "execution_count": null,
   "id": "dd283234",
   "metadata": {},
   "outputs": [],
   "source": [
    "from langchain_community.embeddings import OllamaEmbeddings\n",
    "embeddings = OllamaEmbeddings(model=\"gemma:2b\")\n",
    "embeddings"
   ]
  },
  {
   "cell_type": "code",
   "execution_count": null,
   "id": "31a2e781",
   "metadata": {},
   "outputs": [],
   "source": [
    "r1 = embeddings.embed_documents(\n",
    "    [\n",
    "        \"alpha is first letter of greek alphabet\", \n",
    "        \"beta is second letter of greek alphabet\",\n",
    "        \"gamma is third letter of greek alphabet\"\n",
    "    ]\n",
    "    )\n",
    "r1\n"
   ]
  },
  {
   "cell_type": "code",
   "execution_count": null,
   "id": "aa6b3931",
   "metadata": {},
   "outputs": [],
   "source": [
    "embeddings.embed_query(\"what is first letter of greek alphabet?\")"
   ]
  },
  {
   "cell_type": "code",
   "execution_count": null,
   "id": "3bdec9db",
   "metadata": {},
   "outputs": [],
   "source": [
    "embeddings = OllamaEmbeddings(model=\"mxbai-embed-large\")\n",
    "text = \"The quick brown fox jumps over the lazy dog\"\n",
    "query_result = embeddings.embed_query(text)\n",
    "len(query_result)"
   ]
  }
 ],
 "metadata": {
  "kernelspec": {
   "display_name": "LangChain-Agentic",
   "language": "python",
   "name": "python3"
  },
  "language_info": {
   "codemirror_mode": {
    "name": "ipython",
    "version": 3
   },
   "file_extension": ".py",
   "mimetype": "text/x-python",
   "name": "python",
   "nbconvert_exporter": "python",
   "pygments_lexer": "ipython3",
   "version": "3.13.5"
  }
 },
 "nbformat": 4,
 "nbformat_minor": 5
}
