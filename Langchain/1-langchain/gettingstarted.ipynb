{
 "cells": [
  {
   "cell_type": "markdown",
   "id": "bb92dd7a",
   "metadata": {},
   "source": [
    "#### Getting Started with Langchain & openai"
   ]
  },
  {
   "cell_type": "code",
   "execution_count": null,
   "id": "ec2217e2",
   "metadata": {},
   "outputs": [],
   "source": []
  }
 ],
 "metadata": {
  "kernelspec": {
   "display_name": ".venv",
   "language": "python",
   "name": "python3"
  },
  "language_info": {
   "name": "python",
   "version": "3.13.5"
  }
 },
 "nbformat": 4,
 "nbformat_minor": 5
}
