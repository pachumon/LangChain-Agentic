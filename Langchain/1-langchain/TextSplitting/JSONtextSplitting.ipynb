{
 "cells": [
  {
   "cell_type": "markdown",
   "id": "794244b8",
   "metadata": {},
   "source": [
    "### JSON text Splitter "
   ]
  },
  {
   "cell_type": "code",
   "execution_count": 4,
   "id": "3b8173f5",
   "metadata": {},
   "outputs": [
    {
     "data": {
      "text/plain": [
       "5"
      ]
     },
     "execution_count": 4,
     "metadata": {},
     "output_type": "execute_result"
    }
   ],
   "source": [
    "import json\n",
    "import requests\n",
    "\n",
    "json_data = requests.get(\"https://api.smith.langchain.com/openapi.json\").json()\n",
    "len(json_data)"
   ]
  },
  {
   "cell_type": "code",
   "execution_count": 14,
   "id": "7f45b99a",
   "metadata": {},
   "outputs": [
    {
     "name": "stdout",
     "output_type": "stream",
     "text": [
      "Chunk 0:\n",
      "{\n",
      "  \"openapi\": \"3.1.0\",\n",
      "  \"info\": {\n",
      "    \"title\": \"LangSmith\",\n",
      "    \"version\": \"0.1.0\"\n",
      "  },\n",
      "  \"paths\": {\n",
      "    \"/api/v1/sessions/{session_id}/dashboard\": {\n",
      "      \"post\": {\n",
      "        \"tags\": [\n",
      "          \"tracer-sessions\"\n",
      "        ],\n",
      "        \"summary\": \"Get Tracing Project Prebuilt Dashboard\",\n",
      "        \"description\": \"Get a prebuilt dashboard for a tracing project.\"\n",
      "      }\n",
      "    }\n",
      "  }\n",
      "}\n",
      "\n",
      "---\n",
      "\n",
      "Chunk 1:\n",
      "{\n",
      "  \"paths\": {\n",
      "    \"/api/v1/sessions/{session_id}/dashboard\": {\n",
      "      \"post\": {\n",
      "        \"operationId\": \"get_tracing_project_prebuilt_dashboard_api_v1_sessions__session_id__dashboard_post\",\n",
      "        \"security\": [\n",
      "          {\n",
      "            \"API Key\": []\n",
      "          },\n",
      "          {\n",
      "            \"Tenant ID\": []\n",
      "          },\n",
      "          {\n",
      "            \"Bearer Auth\": []\n",
      "          }\n",
      "        ]\n",
      "      }\n",
      "    }\n",
      "  }\n",
      "}\n",
      "\n",
      "---\n",
      "\n"
     ]
    }
   ],
   "source": [
    "from langchain_text_splitters import RecursiveJsonSplitter\n",
    "json_splitter = RecursiveJsonSplitter(max_chunk_size=300)\n",
    "json_chunks = json_splitter.split_json(json_data)\n",
    "len(json_chunks)\n",
    "for i, chunk in enumerate(json_chunks[:2]):\n",
    "    print(f\"Chunk {i}:\")\n",
    "    print(json.dumps(chunk, indent=2))\n",
    "    print(\"\\n---\\n\")\n"
   ]
  },
  {
   "cell_type": "code",
   "execution_count": 15,
   "id": "8916c913",
   "metadata": {},
   "outputs": [
    {
     "name": "stdout",
     "output_type": "stream",
     "text": [
      "Document 0:\n",
      "{\"openapi\": \"3.1.0\", \"info\": {\"title\": \"LangSmith\", \"version\": \"0.1.0\"}, \"paths\": {\"/api/v1/sessions/{session_id}/dashboard\": {\"post\": {\"tags\": [\"tracer-sessions\"], \"summary\": \"Get Tracing Project Prebuilt Dashboard\", \"description\": \"Get a prebuilt dashboard for a tracing project.\"}}}}\n",
      "\n",
      "---\n",
      "\n",
      "Document 1:\n",
      "{\"paths\": {\"/api/v1/sessions/{session_id}/dashboard\": {\"post\": {\"operationId\": \"get_tracing_project_prebuilt_dashboard_api_v1_sessions__session_id__dashboard_post\", \"security\": [{\"API Key\": []}, {\"Tenant ID\": []}, {\"Bearer Auth\": []}]}}}}\n",
      "\n",
      "---\n",
      "\n"
     ]
    }
   ],
   "source": [
    "## splitter can aldo output documents\n",
    "documents = json_splitter.create_documents(texts=[json_data])\n",
    "for i, doc in enumerate(documents[:2]):\n",
    "    print(f\"Document {i}:\")\n",
    "    print(doc.page_content)\n",
    "    print(\"\\n---\\n\")"
   ]
  },
  {
   "cell_type": "code",
   "execution_count": 16,
   "id": "525cde99",
   "metadata": {},
   "outputs": [
    {
     "name": "stdout",
     "output_type": "stream",
     "text": [
      "{\"openapi\": \"3.1.0\", \"info\": {\"title\": \"LangSmith\", \"version\": \"0.1.0\"}, \"paths\": {\"/api/v1/sessions/{session_id}/dashboard\": {\"post\": {\"tags\": [\"tracer-sessions\"], \"summary\": \"Get Tracing Project Prebuilt Dashboard\", \"description\": \"Get a prebuilt dashboard for a tracing project.\"}}}}\n",
      "{\"paths\": {\"/api/v1/sessions/{session_id}/dashboard\": {\"post\": {\"operationId\": \"get_tracing_project_prebuilt_dashboard_api_v1_sessions__session_id__dashboard_post\", \"security\": [{\"API Key\": []}, {\"Tenant ID\": []}, {\"Bearer Auth\": []}]}}}}\n"
     ]
    }
   ],
   "source": [
    "texts = json_splitter.split_text(json_data)\n",
    "print(texts[0]) \n",
    "print(texts[1])"
   ]
  }
 ],
 "metadata": {
  "kernelspec": {
   "display_name": ".venv",
   "language": "python",
   "name": "python3"
  },
  "language_info": {
   "codemirror_mode": {
    "name": "ipython",
    "version": 3
   },
   "file_extension": ".py",
   "mimetype": "text/x-python",
   "name": "python",
   "nbconvert_exporter": "python",
   "pygments_lexer": "ipython3",
   "version": "3.13.5"
  }
 },
 "nbformat": 4,
 "nbformat_minor": 5
}
